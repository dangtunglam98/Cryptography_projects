{
 "nbformat": 4,
 "nbformat_minor": 2,
 "metadata": {
  "language_info": {
   "name": "python",
   "codemirror_mode": {
    "name": "ipython",
    "version": 3
   },
   "version": "3.7.5-candidate"
  },
  "orig_nbformat": 2,
  "file_extension": ".py",
  "mimetype": "text/x-python",
  "name": "python",
  "npconvert_exporter": "python",
  "pygments_lexer": "ipython3",
  "version": 3,
  "kernelspec": {
   "name": "python37564bitc162fe80bee44562b8b43a5561a3e1bf",
   "display_name": "Python 3.7.5 64-bit"
  }
 },
 "cells": [
  {
   "cell_type": "code",
   "execution_count": 81,
   "metadata": {},
   "outputs": [],
   "source": [
    "def computeGCD(x, y): \n",
    "  \n",
    "    if x > y: \n",
    "        small = y \n",
    "    else: \n",
    "        small = x \n",
    "    for i in range(1, small+1): \n",
    "        if((x % i == 0) and (y % i == 0)): \n",
    "            gcd = i \n",
    "              \n",
    "    return gcd \n",
    "\n",
    "def find_all_coprime(y):\n",
    "    co_primes = []\n",
    "    for i in range(2,y):\n",
    "        if computeGCD(i, y) == 1:\n",
    "            co_primes.append(i)\n",
    "    return co_primes\n",
    "\n",
    "\n",
    "def find_generator(y):\n",
    "    co_prime = find_all_coprime(y)\n",
    "    generator = []\n",
    "    for x in co_prime:\n",
    "        print(\"For the number \" + str(x))\n",
    "        result = x\n",
    "        resultList = []\n",
    "        for i in range(len(co_prime)+1):\n",
    "            result = (result*x)%y\n",
    "            resultList.append(result)\n",
    "            print(str(result), end=', ')\n",
    "        print(\"\\n\")\n",
    "    \n",
    "        if len(set(resultList)) == len(resultList):  \n",
    "            generator.append(x)\n",
    "            print(str(x) + \" is a generator\")\n",
    "        else:\n",
    "            print(str(x) + \" is NOT a generator\")\n",
    "\n",
    "        print(\"\\n\")\n",
    "    if len(generator) != 0:\n",
    "        print(\"generators are \" + str(generator))\n",
    "    else:\n",
    "        print(\"There are no generators\")\n",
    "\n"
   ]
  },
  {
   "cell_type": "code",
   "execution_count": 82,
   "metadata": {},
   "outputs": [
    {
     "name": "stdout",
     "output_type": "stream",
     "text": "For the number 2\n4, 8, 7, 5, 1, 2, \n\n2 is a generator\n\n\nFor the number 4\n7, 1, 4, 7, 1, 4, \n\n4 is NOT a generator\n\n\nFor the number 5\n7, 8, 4, 2, 1, 5, \n\n5 is a generator\n\n\nFor the number 7\n4, 1, 7, 4, 1, 7, \n\n7 is NOT a generator\n\n\nFor the number 8\n1, 8, 1, 8, 1, 8, \n\n8 is NOT a generator\n\n\ngenerators are [2, 5]\n"
    }
   ],
   "source": [
    "find_generator(9)"
   ]
  },
  {
   "cell_type": "code",
   "execution_count": 84,
   "metadata": {},
   "outputs": [
    {
     "name": "stdout",
     "output_type": "stream",
     "text": "For n = 9:\nFor the number 2\n4, 8, 7, 5, 1, 2, \n\n2 is a generator\n\n\nFor the number 4\n7, 1, 4, 7, 1, 4, \n\n4 is NOT a generator\n\n\nFor the number 5\n7, 8, 4, 2, 1, 5, \n\n5 is a generator\n\n\nFor the number 7\n4, 1, 7, 4, 1, 7, \n\n7 is NOT a generator\n\n\nFor the number 8\n1, 8, 1, 8, 1, 8, \n\n8 is NOT a generator\n\n\ngenerators are [2, 5]\n---------------------------------------------------------------------------\nFor n = 13:\nFor the number 2\n4, 8, 3, 6, 12, 11, 9, 5, 10, 7, 1, 2, \n\n2 is a generator\n\n\nFor the number 3\n9, 1, 3, 9, 1, 3, 9, 1, 3, 9, 1, 3, \n\n3 is NOT a generator\n\n\nFor the number 4\n3, 12, 9, 10, 1, 4, 3, 12, 9, 10, 1, 4, \n\n4 is NOT a generator\n\n\nFor the number 5\n12, 8, 1, 5, 12, 8, 1, 5, 12, 8, 1, 5, \n\n5 is NOT a generator\n\n\nFor the number 6\n10, 8, 9, 2, 12, 7, 3, 5, 4, 11, 1, 6, \n\n6 is a generator\n\n\nFor the number 7\n10, 5, 9, 11, 12, 6, 3, 8, 4, 2, 1, 7, \n\n7 is a generator\n\n\nFor the number 8\n12, 5, 1, 8, 12, 5, 1, 8, 12, 5, 1, 8, \n\n8 is NOT a generator\n\n\nFor the number 9\n3, 1, 9, 3, 1, 9, 3, 1, 9, 3, 1, 9, \n\n9 is NOT a generator\n\n\nFor the number 10\n9, 12, 3, 4, 1, 10, 9, 12, 3, 4, 1, 10, \n\n10 is NOT a generator\n\n\nFor the number 11\n4, 5, 3, 7, 12, 2, 9, 8, 10, 6, 1, 11, \n\n11 is a generator\n\n\nFor the number 12\n1, 12, 1, 12, 1, 12, 1, 12, 1, 12, 1, 12, \n\n12 is NOT a generator\n\n\ngenerators are [2, 6, 7, 11]\n---------------------------------------------------------------------------\nFor n = 17:\nFor the number 2\n4, 8, 16, 15, 13, 9, 1, 2, 4, 8, 16, 15, 13, 9, 1, 2, \n\n2 is NOT a generator\n\n\nFor the number 3\n9, 10, 13, 5, 15, 11, 16, 14, 8, 7, 4, 12, 2, 6, 1, 3, \n\n3 is a generator\n\n\nFor the number 4\n16, 13, 1, 4, 16, 13, 1, 4, 16, 13, 1, 4, 16, 13, 1, 4, \n\n4 is NOT a generator\n\n\nFor the number 5\n8, 6, 13, 14, 2, 10, 16, 12, 9, 11, 4, 3, 15, 7, 1, 5, \n\n5 is a generator\n\n\nFor the number 6\n2, 12, 4, 7, 8, 14, 16, 11, 15, 5, 13, 10, 9, 3, 1, 6, \n\n6 is a generator\n\n\nFor the number 7\n15, 3, 4, 11, 9, 12, 16, 10, 2, 14, 13, 6, 8, 5, 1, 7, \n\n7 is a generator\n\n\nFor the number 8\n13, 2, 16, 9, 4, 15, 1, 8, 13, 2, 16, 9, 4, 15, 1, 8, \n\n8 is NOT a generator\n\n\nFor the number 9\n13, 15, 16, 8, 4, 2, 1, 9, 13, 15, 16, 8, 4, 2, 1, 9, \n\n9 is NOT a generator\n\n\nFor the number 10\n15, 14, 4, 6, 9, 5, 16, 7, 2, 3, 13, 11, 8, 12, 1, 10, \n\n10 is a generator\n\n\nFor the number 11\n2, 5, 4, 10, 8, 3, 16, 6, 15, 12, 13, 7, 9, 14, 1, 11, \n\n11 is a generator\n\n\nFor the number 12\n8, 11, 13, 3, 2, 7, 16, 5, 9, 6, 4, 14, 15, 10, 1, 12, \n\n12 is a generator\n\n\nFor the number 13\n16, 4, 1, 13, 16, 4, 1, 13, 16, 4, 1, 13, 16, 4, 1, 13, \n\n13 is NOT a generator\n\n\nFor the number 14\n9, 7, 13, 12, 15, 6, 16, 3, 8, 10, 4, 5, 2, 11, 1, 14, \n\n14 is a generator\n\n\nFor the number 15\n4, 9, 16, 2, 13, 8, 1, 15, 4, 9, 16, 2, 13, 8, 1, 15, \n\n15 is NOT a generator\n\n\nFor the number 16\n1, 16, 1, 16, 1, 16, 1, 16, 1, 16, 1, 16, 1, 16, 1, 16, \n\n16 is NOT a generator\n\n\ngenerators are [3, 5, 6, 7, 10, 11, 12, 14]\n---------------------------------------------------------------------------\nFor n = 19:\nFor the number 2\n4, 8, 16, 13, 7, 14, 9, 18, 17, 15, 11, 3, 6,12, 5, 10, 1, 2, \n\n2 is a generator\n\n\nFor the number 3\n9, 8, 5, 15, 7, 2, 6, 18, 16, 10, 11, 14, 4, 12, 17, 13, 1, 3, \n\n3 is a generator\n\n\nFor the number 4\n16, 7, 9, 17, 11, 6, 5, 1, 4, 16, 7, 9, 17, 11, 6, 5, 1, 4, \n\n4 is NOT a generator\n\n\nFor the number 5\n6, 11, 17, 9, 7, 16, 4, 1, 5, 6, 11, 17, 9, 7, 16, 4, 1, 5, \n\n5 is NOT a generator\n\n\nFor the number 6\n17, 7, 4, 5, 11, 9, 16, 1, 6, 17, 7, 4, 5, 11, 9, 16, 1, 6, \n\n6 is NOT a generator\n\n\nFor the number 7\n11, 1, 7, 11, 1, 7, 11, 1, 7, 11, 1, 7, 11, 1, 7, 11, 1, 7, \n\n7 is NOT a generator\n\n\nFor the number 8\n7, 18, 11, 12, 1, 8, 7, 18, 11, 12, 1, 8, 7, 18, 11, 12, 1, 8, \n\n8 is NOT a generator\n\n\nFor the number 9\n5, 7, 6, 16, 11, 4, 17, 1, 9, 5, 7, 6, 16, 11, 4, 17, 1, 9, \n\n9 is NOT a generator\n\n\nFor the number 10\n5, 12, 6, 3, 11, 15, 17, 18, 9, 14, 7, 13, 16, 8, 4, 2, 1, 10, \n\n10 is a generator\n\n\nFor the number 11\n7, 1, 11, 7, 1, 11, 7, 1, 11, 7, 1, 11, 7, 1, 11, 7, 1, 11, \n\n11 is NOT a generator\n\n\nFor the number 12\n11, 18, 7, 8, 1, 12, 11, 18, 7, 8, 1, 12, 11, 18, 7, 8, 1, 12, \n\n12 is NOT a generator\n\n\nFor the number 13\n17, 12, 4, 14, 11, 10, 16, 18, 6, 2, 7, 15, 5, 8, 9, 3, 1, 13, \n\n13 is a generator\n\n\nFor the number 14\n6, 8, 17, 10, 7, 3, 4, 18, 5, 13, 11, 2, 9, 12, 16, 15, 1, 14, \n\n14 is a generator\n\n\nFor the number 15\n16, 12, 9, 2, 11, 13, 5, 18, 4, 3, 7, 10, 17, 8, 6, 14, 1, 15, \n\n15 is a generator\n\n\nFor the number 16\n9, 11, 5, 4, 7, 17, 6, 1, 16, 9, 11, 5, 4, 7, 17, 6, 1, 16, \n\n16 is NOT a generator\n\n\nFor the number 17\n4, 11, 16, 6, 7, 5, 9, 1, 17, 4, 11, 16, 6, 7, 5, 9, 1, 17, \n\n17 is NOT a generator\n\n\nFor the number 18\n1, 18, 1, 18, 1, 18, 1, 18, 1, 18, 1, 18, 1, 18, 1, 18, 1, 18, \n\n18 is NOT a generator\n\n\ngenerators are [2, 3, 10, 13, 14, 15]\n---------------------------------------------------------------------------\nFor n = 27:\nFor the number 2\n4, 8, 16, 5, 10, 20, 13, 26, 25, 23, 19, 11, 22, 17, 7, 14, 1, 2, \n\n2 is a generator\n\n\nFor the number 4\n16, 10, 13, 25, 19, 22, 7, 1, 4, 16, 10, 13, 25, 19, 22, 7, 1, 4, \n\n4 is NOT a generator\n\n\nFor the number 5\n25, 17, 4, 20, 19, 14, 16, 26, 22, 2, 10, 23, 7, 8, 13, 11, 1, 5, \n\n5 is a generator\n\n\nFor the number 7\n22, 19, 25, 13, 10, 16, 4, 1, 7, 22, 19, 25, 13, 10, 16, 4, 1, 7, \n\n7 is NOT a generator\n\n\nFor the number 8\n10, 26, 19, 17, 1, 8, 10, 26, 19, 17, 1, 8, 10, 26, 19, 17, 1, 8, \n\n8 is NOT a generator\n\n\nFor the number 10\n19, 1, 10, 19, 1, 10, 19, 1, 10, 19, 1, 10, 19, 1, 10, 19, 1, 10, \n\n10 is NOT a generator\n\n\nFor the number 11\n13, 8, 7, 23, 10, 2, 22, 26, 16, 14, 19, 20, 4, 17, 25, 5, 1, 11, \n\n11 is a generator\n\n\nFor the number 13\n7, 10, 22, 16, 19, 4, 25, 1, 13, 7, 10, 22, 16, 19, 4, 25, 1, 13, \n\n13 is NOT a generator\n\n\nFor the number 14\n7, 17, 22, 11, 19, 23, 25, 26, 13, 20, 10, 5, 16, 8, 4, 2, 1, 14, \n\n14 is a generator\n\n\nFor the number 16\n13, 19, 7, 4, 10, 25, 22, 1, 16, 13, 19, 7, 4, 10, 25, 22, 1, 16, \n\n16 is NOT a generator\n\n\nFor the number 17\n19, 26, 10, 8, 1, 17, 19, 26, 10, 8, 1, 17, 19, 26, 10, 8, 1, 17, \n\n17 is NOT a generator\n\n\nFor the number 19\n10, 1, 19, 10, 1, 19, 10, 1, 19, 10, 1, 19, 10, 1, 19, 10, 1, 19, \n\n19 is NOT a generator\n\n\nFor the number 20\n22, 8, 25, 14, 10, 11, 4, 26, 7, 5, 19, 2, 13, 17, 16, 23, 1, 20, \n\n20 is a generator\n\n\nFor the number 22\n25, 10, 4, 7, 19, 13, 16, 1, 22, 25, 10, 4, 7, 19, 13, 16, 1, 22, \n\n22 is NOT a generator\n\n\nFor the number 23\n16, 17, 13, 2, 19, 5, 7, 26, 4, 11, 10, 14, 25, 8, 22, 20, 1, 23, \n\n23 is a generator\n\n\nFor the number 25\n4, 19, 16, 22, 10, 7, 13, 1, 25, 4, 19, 16, 22, 10, 7, 13, 1, 25, \n\n25 is NOT a generator\n\n\nFor the number 26\n1, 26, 1, 26, 1, 26, 1, 26, 1, 26, 1, 26, 1, 26, 1, 26, 1, 26, \n\n26 is NOT a generator\n\n\ngenerators are [2, 5, 11, 14, 20, 23]\n---------------------------------------------------------------------------\nFor n = 12:\nFor the number 5\n1, 5, 1, 5, \n\n5 is NOT a generator\n\n\nFor the number 7\n1, 7, 1, 7, \n\n7 is NOT a generator\n\n\nFor the number 11\n1, 11, 1, 11, \n\n11 is NOT a generator\n\n\nThere are no generators\n---------------------------------------------------------------------------\nFor n = 15:\nFor the number 2\n4, 8, 1, 2, 4, 8, 1, 2, \n\n2 is NOT a generator\n\n\nFor the number 4\n1, 4, 1, 4, 1, 4, 1, 4, \n\n4 is NOT a generator\n\n\nFor the number 7\n4, 13, 1, 7, 4, 13, 1, 7, \n\n7 is NOT a generator\n\n\nFor the number 8\n4, 2, 1, 8, 4, 2, 1, 8, \n\n8 is NOT a generator\n\n\nFor the number 11\n1, 11, 1, 11, 1, 11, 1, 11, \n\n11 is NOT a generator\n\n\nFor the number 13\n4, 7, 1, 13, 4, 7, 1, 13, \n\n13 is NOT a generator\n\n\nFor the number 14\n1, 14, 1, 14, 1, 14, 1, 14, \n\n14 is NOT a generator\n\n\nThere are no generators\n---------------------------------------------------------------------------\n"
    }
   ],
   "source": [
    "if __name__== \"__main__\":\n",
    "    assignment = [9,13,17,19,27,12,15]\n",
    "    for number in assignment:\n",
    "        print(\"For n = \" + str(number) + ':')\n",
    "        find_generator(number)\n",
    "        print(\"---------------------------------------------------------------------------\")"
   ]
  },
  {
   "cell_type": "code",
   "execution_count": 45,
   "metadata": {},
   "outputs": [],
   "source": [
    "def computeGCD(x, y): \n",
    "  \n",
    "    if x > y: \n",
    "        small = y \n",
    "    else: \n",
    "        small = x \n",
    "    for i in range(1, small+1): \n",
    "        if((x % i == 0) and (y % i == 0)): \n",
    "            gcd = i \n",
    "              \n",
    "    return gcd \n",
    "\n",
    "def find_all_coprime(y):\n",
    "    co_primes = []\n",
    "    for i in range(2,y):\n",
    "        if computeGCD(i, y) == 1:\n",
    "            co_primes.append(i)\n",
    "    return co_primes"
   ]
  },
  {
   "cell_type": "code",
   "execution_count": 46,
   "metadata": {},
   "outputs": [
    {
     "data": {
      "text/plain": "[2, 4, 5, 7, 8]"
     },
     "execution_count": 46,
     "metadata": {},
     "output_type": "execute_result"
    }
   ],
   "source": [
    "\n",
    "find_all_coprime(9)"
   ]
  },
  {
   "cell_type": "code",
   "execution_count": 75,
   "metadata": {},
   "outputs": [
    {
     "data": {
      "text/plain": "1"
     },
     "execution_count": 75,
     "metadata": {},
     "output_type": "execute_result"
    }
   ],
   "source": [
    "3**6 %7"
   ]
  },
  {
   "cell_type": "code",
   "execution_count": null,
   "metadata": {},
   "outputs": [],
   "source": []
  }
 ]
}