{
 "cells": [
  {
   "cell_type": "code",
   "execution_count": 6,
   "metadata": {},
   "outputs": [
    {
     "name": "stdout",
     "output_type": "stream",
     "text": [
      "59549523913\n"
     ]
    }
   ],
   "source": [
    "p = 345244325453\n",
    "def exp(a, n, p):\n",
    "    temp_n = n\n",
    "    temp_a = a\n",
    "    result = 1\n",
    "    while temp_n != 0:\n",
    "        if temp_n % 2 == 1:\n",
    "            result = (result * temp_a) % p\n",
    "        temp_a = (temp_a * temp_a) % p\n",
    "        temp_n //= 2\n",
    "    return result\n",
    "print(exp(26, (p-1)//677, p))"
   ]
  },
  {
   "cell_type": "code",
   "execution_count": null,
   "metadata": {},
   "outputs": [],
   "source": [
    "\"\"\" Name: Lam Dang\n",
    "    For: CS240 Cryptography Assignment 1\n",
    "    README:\n",
    "        - Make sure the input.txt file is in the same dir as the code file\n",
    "        - In terminal, run: python3 morse_decrypt.py\n",
    "\"\"\"\n",
    "\n",
    "\n",
    "def decrypt(inputFile):\n",
    "    MORSE_CODE_DICT = { '.-':'A', '-...':'B', \n",
    "                    '-.-.':'C', '-..':'D', '.':'E', \n",
    "                    '..-.':'F', '--.':'G', '....':'H', \n",
    "                    '..':'I', '.---':'J', '-.-':'K', \n",
    "                    '.-..':'L', '--':'M', '-.':'N', \n",
    "                    '---':'O', '.--.':'P', '--.-':'Q', \n",
    "                    '.-.':'R', '...':'S', '-':'T', \n",
    "                    '..-':'U', '...-':'V', '.--':'W', \n",
    "                    '-..-':'X', '-.--':'Y', '--..':'Z'} \n",
    "\n",
    "    REVERSED_CODE_DICT = {'A':'...', 'B':'..-', 'C':'..x',\n",
    "                    'D':'.-.', 'E':'.--', 'F':'.-x',\n",
    "                    'G':'.x.', 'H':'.x-', 'I':'.xx',\n",
    "                    'J':'-..', 'K':'-.-', 'L':'-.x',\n",
    "                    'M':'--.', 'N':'---', 'O':'--x',\n",
    "                    'P':'-x.', 'Q':'-x-', 'R':'-xx',\n",
    "                    'S':'x..', 'T':'x.-', 'U':'x.x',\n",
    "                    'V':'x-.', 'W':'x--', 'X':'x-x',\n",
    "                    'Y':'xx.', 'Z':'xx-'}\n",
    "    \n",
    "    \n",
    "    \n",
    "    inFile = open(inputFile,'r')\n",
    "    encoded_message = inFile.read()\n",
    "    encoded_morse = \"\"\n",
    "\n",
    "    \"\"\"Change to Morse Code using Fractionated Morse Code\"\"\"\n",
    "    for char in encoded_message:\n",
    "        encoded_morse += REVERSED_CODE_DICT[char]\n",
    "\n",
    "    \"\"\"Change to Text using Standardized Morse Code\"\"\"\n",
    "    outFile = open(\"output.txt\", 'w')\n",
    "    morse_phrase = \"\"\n",
    "    decoded_phrase = \"\"\n",
    "    for encoded_char in encoded_morse:\n",
    "        if encoded_char == 'x':                 #Find the next end of character(word)\n",
    "            if morse_phrase == \"\":\n",
    "                outFile.write(\" \")\n",
    "            else:\n",
    "                outFile.write(MORSE_CODE_DICT[morse_phrase])    #Decrypt and write to file\n",
    "            morse_phrase = \"\"\n",
    "        else:\n",
    "            morse_phrase += encoded_char      #Add single signal to the phrase\n",
    "    \n",
    "    if len(morse_phrase) != 0:\n",
    "        outFile.write(MORSE_CODE_DICT[morse_phrase])   #Decrypt the last character if exist\n",
    "    \n",
    "    return 0\n",
    "\n",
    "if __name__ == \"__main__\":\n",
    "    decrypt(\"input.txt\")   #Please make sure the input.txt file is in the same dir as the code file."
   ]
  }
 ],
 "metadata": {
  "kernelspec": {
   "display_name": "Python 3.7.5 64-bit",
   "language": "python",
   "name": "python37564bitc162fe80bee44562b8b43a5561a3e1bf"
  },
  "language_info": {
   "codemirror_mode": {
    "name": "ipython",
    "version": 3
   },
   "file_extension": ".py",
   "mimetype": "text/x-python",
   "name": "python",
   "nbconvert_exporter": "python",
   "pygments_lexer": "ipython3",
   "version": "3.7.5rc1"
  }
 },
 "nbformat": 4,
 "nbformat_minor": 2
}
